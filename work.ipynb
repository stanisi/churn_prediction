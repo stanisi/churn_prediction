{
 "cells": [
  {
   "cell_type": "code",
   "execution_count": 2,
   "metadata": {},
   "outputs": [],
   "source": [
    "from xgboost import XGBClassifier, XGBRegressor\n",
    "import pandas as pd\n",
    "import numpy as np\n",
    "from sklearn.model_selection import train_test_split"
   ]
  },
  {
   "cell_type": "code",
   "execution_count": 14,
   "metadata": {},
   "outputs": [
    {
     "name": "stdout",
     "output_type": "stream",
     "text": [
      "(90650, 145)\n",
      "<class 'pandas.core.frame.DataFrame'>\n",
      "RangeIndex: 90650 entries, 0 to 90649\n",
      "Columns: 145 entries, FED_ID to LAST_UPDATED\n",
      "dtypes: float64(85), int64(53), object(7)\n",
      "memory usage: 100.3+ MB\n",
      "None\n",
      "                                 FED_ID     PLATFORM PREDICTING_DATE  \\\n",
      "0  fb5e2727-cf73-11e8-877d-b8ca3a60b598      Windows      2024-05-10   \n",
      "1  1920e0b1-3583-11ee-adaf-b8ca3a60b598        Steam      2024-05-10   \n",
      "2  699653a2-aae6-11ea-a2f9-b8ca3a7093b8  Google Play      2024-05-10   \n",
      "3  ee69a0f1-7889-11ea-9d65-b8ca3a60b6e4      Windows      2024-05-10   \n",
      "4  78c179f2-a1b9-11e8-8b23-b8ca3a603534      Windows      2024-05-10   \n",
      "\n",
      "   PLATFORM_GP  PLATFORM_IOS              INSTALL_TIME INSTALL_DATE  \\\n",
      "0            0             0  2018-10-14T05:42:43.000Z   2018-10-14   \n",
      "1            0             0  2023-08-08T00:53:58.000Z   2023-08-08   \n",
      "2            1             0  2020-06-10T06:48:32.000Z   2020-06-10   \n",
      "3            0             0  2020-04-07T04:40:32.000Z   2020-04-07   \n",
      "4            0             0  2018-08-17T01:04:18.000Z   2018-08-17   \n",
      "\n",
      "   INSTALL_HR  INSTALL_DOW  COUNTRY_US  ...  LAST_SILVER_BALANCE  \\\n",
      "0           5            0           1  ...         4.352962e+08   \n",
      "1           0            2           0  ...         2.387138e+07   \n",
      "2           6            3           0  ...         5.118684e+09   \n",
      "3           4            2           0  ...         2.283809e+08   \n",
      "4           1            5           1  ...         2.093728e+09   \n",
      "\n",
      "   MIN_DUCATS_BALANCE  MEAN_DUCATS_BALANCE  MAX_DUCATS_BALANCE  \\\n",
      "0          80426010.0         1.086549e+08         153121399.0   \n",
      "1              5627.0         5.627000e+03              5627.0   \n",
      "2         230940885.0         3.857306e+08         513819947.0   \n",
      "3          37589855.0         1.234252e+08         219559130.0   \n",
      "4          28453802.0         8.027518e+07         113815208.0   \n",
      "\n",
      "   LAST_DUCATS_BALANCE  AVG_INACTIVE_1W  MED_INACTIVE_1W  MAX_INACTIVE_1W  \\\n",
      "0           80426010.0         0.000000              0.0              0.0   \n",
      "1               5627.0         0.333333              0.0              1.0   \n",
      "2          379625416.0         0.000000              0.0              0.0   \n",
      "3           94299565.0         0.000000              0.0              0.0   \n",
      "4          113815208.0         0.000000              0.0              0.0   \n",
      "\n",
      "   DOW  LAST_UPDATED  \n",
      "0    5    2024-05-10  \n",
      "1    5    2024-05-10  \n",
      "2    5    2024-05-10  \n",
      "3    5    2024-05-10  \n",
      "4    5    2024-05-10  \n",
      "\n",
      "[5 rows x 145 columns]\n"
     ]
    }
   ],
   "source": [
    "# Here usually we have a db connection defined with a parametrized query that runs daily agains the DB\n",
    "# Reading from csv instead for simplicity\n",
    "backfill = pd.read_csv('data.csv')\n",
    "print(backfill.shape)\n",
    "print(backfill.info())\n",
    "print(backfill.head())\n"
   ]
  },
  {
   "cell_type": "code",
   "execution_count": 12,
   "metadata": {},
   "outputs": [
    {
     "ename": "KeyError",
     "evalue": "'IS_CHURN'",
     "output_type": "error",
     "traceback": [
      "\u001b[1;31m---------------------------------------------------------------------------\u001b[0m",
      "\u001b[1;31mKeyError\u001b[0m                                  Traceback (most recent call last)",
      "File \u001b[1;32mc:\\Users\\stani\\AppData\\Local\\Programs\\Python\\Python312\\Lib\\site-packages\\pandas\\core\\indexes\\base.py:3805\u001b[0m, in \u001b[0;36mIndex.get_loc\u001b[1;34m(self, key)\u001b[0m\n\u001b[0;32m   3804\u001b[0m \u001b[38;5;28;01mtry\u001b[39;00m:\n\u001b[1;32m-> 3805\u001b[0m     \u001b[38;5;28;01mreturn\u001b[39;00m \u001b[38;5;28;43mself\u001b[39;49m\u001b[38;5;241;43m.\u001b[39;49m\u001b[43m_engine\u001b[49m\u001b[38;5;241;43m.\u001b[39;49m\u001b[43mget_loc\u001b[49m\u001b[43m(\u001b[49m\u001b[43mcasted_key\u001b[49m\u001b[43m)\u001b[49m\n\u001b[0;32m   3806\u001b[0m \u001b[38;5;28;01mexcept\u001b[39;00m \u001b[38;5;167;01mKeyError\u001b[39;00m \u001b[38;5;28;01mas\u001b[39;00m err:\n",
      "File \u001b[1;32mindex.pyx:167\u001b[0m, in \u001b[0;36mpandas._libs.index.IndexEngine.get_loc\u001b[1;34m()\u001b[0m\n",
      "File \u001b[1;32mindex.pyx:196\u001b[0m, in \u001b[0;36mpandas._libs.index.IndexEngine.get_loc\u001b[1;34m()\u001b[0m\n",
      "File \u001b[1;32mpandas\\\\_libs\\\\hashtable_class_helper.pxi:7081\u001b[0m, in \u001b[0;36mpandas._libs.hashtable.PyObjectHashTable.get_item\u001b[1;34m()\u001b[0m\n",
      "File \u001b[1;32mpandas\\\\_libs\\\\hashtable_class_helper.pxi:7089\u001b[0m, in \u001b[0;36mpandas._libs.hashtable.PyObjectHashTable.get_item\u001b[1;34m()\u001b[0m\n",
      "\u001b[1;31mKeyError\u001b[0m: 'IS_CHURN'",
      "\nThe above exception was the direct cause of the following exception:\n",
      "\u001b[1;31mKeyError\u001b[0m                                  Traceback (most recent call last)",
      "Cell \u001b[1;32mIn[12], line 1\u001b[0m\n\u001b[1;32m----> 1\u001b[0m \u001b[43mbackfill\u001b[49m\u001b[43m[\u001b[49m\u001b[38;5;124;43m'\u001b[39;49m\u001b[38;5;124;43mIS_CHURN\u001b[39;49m\u001b[38;5;124;43m'\u001b[39;49m\u001b[43m]\u001b[49m\n",
      "File \u001b[1;32mc:\\Users\\stani\\AppData\\Local\\Programs\\Python\\Python312\\Lib\\site-packages\\pandas\\core\\frame.py:4090\u001b[0m, in \u001b[0;36mDataFrame.__getitem__\u001b[1;34m(self, key)\u001b[0m\n\u001b[0;32m   4088\u001b[0m \u001b[38;5;28;01mif\u001b[39;00m \u001b[38;5;28mself\u001b[39m\u001b[38;5;241m.\u001b[39mcolumns\u001b[38;5;241m.\u001b[39mnlevels \u001b[38;5;241m>\u001b[39m \u001b[38;5;241m1\u001b[39m:\n\u001b[0;32m   4089\u001b[0m     \u001b[38;5;28;01mreturn\u001b[39;00m \u001b[38;5;28mself\u001b[39m\u001b[38;5;241m.\u001b[39m_getitem_multilevel(key)\n\u001b[1;32m-> 4090\u001b[0m indexer \u001b[38;5;241m=\u001b[39m \u001b[38;5;28;43mself\u001b[39;49m\u001b[38;5;241;43m.\u001b[39;49m\u001b[43mcolumns\u001b[49m\u001b[38;5;241;43m.\u001b[39;49m\u001b[43mget_loc\u001b[49m\u001b[43m(\u001b[49m\u001b[43mkey\u001b[49m\u001b[43m)\u001b[49m\n\u001b[0;32m   4091\u001b[0m \u001b[38;5;28;01mif\u001b[39;00m is_integer(indexer):\n\u001b[0;32m   4092\u001b[0m     indexer \u001b[38;5;241m=\u001b[39m [indexer]\n",
      "File \u001b[1;32mc:\\Users\\stani\\AppData\\Local\\Programs\\Python\\Python312\\Lib\\site-packages\\pandas\\core\\indexes\\base.py:3812\u001b[0m, in \u001b[0;36mIndex.get_loc\u001b[1;34m(self, key)\u001b[0m\n\u001b[0;32m   3807\u001b[0m     \u001b[38;5;28;01mif\u001b[39;00m \u001b[38;5;28misinstance\u001b[39m(casted_key, \u001b[38;5;28mslice\u001b[39m) \u001b[38;5;129;01mor\u001b[39;00m (\n\u001b[0;32m   3808\u001b[0m         \u001b[38;5;28misinstance\u001b[39m(casted_key, abc\u001b[38;5;241m.\u001b[39mIterable)\n\u001b[0;32m   3809\u001b[0m         \u001b[38;5;129;01mand\u001b[39;00m \u001b[38;5;28many\u001b[39m(\u001b[38;5;28misinstance\u001b[39m(x, \u001b[38;5;28mslice\u001b[39m) \u001b[38;5;28;01mfor\u001b[39;00m x \u001b[38;5;129;01min\u001b[39;00m casted_key)\n\u001b[0;32m   3810\u001b[0m     ):\n\u001b[0;32m   3811\u001b[0m         \u001b[38;5;28;01mraise\u001b[39;00m InvalidIndexError(key)\n\u001b[1;32m-> 3812\u001b[0m     \u001b[38;5;28;01mraise\u001b[39;00m \u001b[38;5;167;01mKeyError\u001b[39;00m(key) \u001b[38;5;28;01mfrom\u001b[39;00m \u001b[38;5;21;01merr\u001b[39;00m\n\u001b[0;32m   3813\u001b[0m \u001b[38;5;28;01mexcept\u001b[39;00m \u001b[38;5;167;01mTypeError\u001b[39;00m:\n\u001b[0;32m   3814\u001b[0m     \u001b[38;5;66;03m# If we have a listlike key, _check_indexing_error will raise\u001b[39;00m\n\u001b[0;32m   3815\u001b[0m     \u001b[38;5;66;03m#  InvalidIndexError. Otherwise we fall through and re-raise\u001b[39;00m\n\u001b[0;32m   3816\u001b[0m     \u001b[38;5;66;03m#  the TypeError.\u001b[39;00m\n\u001b[0;32m   3817\u001b[0m     \u001b[38;5;28mself\u001b[39m\u001b[38;5;241m.\u001b[39m_check_indexing_error(key)\n",
      "\u001b[1;31mKeyError\u001b[0m: 'IS_CHURN'"
     ]
    }
   ],
   "source": [
    "backfill['IS_CHURN']"
   ]
  }
 ],
 "metadata": {
  "kernelspec": {
   "display_name": "Python 3",
   "language": "python",
   "name": "python3"
  },
  "language_info": {
   "codemirror_mode": {
    "name": "ipython",
    "version": 3
   },
   "file_extension": ".py",
   "mimetype": "text/x-python",
   "name": "python",
   "nbconvert_exporter": "python",
   "pygments_lexer": "ipython3",
   "version": "3.12.2"
  }
 },
 "nbformat": 4,
 "nbformat_minor": 2
}
